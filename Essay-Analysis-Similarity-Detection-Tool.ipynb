  {
   "cell_type": "markdown",
   "id": "dafca564",
   "metadata": {},
   "source": [
    "## Cell 1\n"
   ]
  },
  {
   "cell_type": "code",
   "execution_count": 3,
   "id": "6068d387",
   "metadata": {},
   "outputs": [],
   "source": [
    "import os\n",
    "import re\n",
    "from collections import Counter\n",
    "import pandas as pd\n",
    "from sklearn.feature_extraction.text import CountVectorizer\n",
    "from sklearn.metrics.pairwise import cosine_similarity"
   ]
  },
  {
   "cell_type": "markdown",
   "id": "f85a9bfb",
   "metadata": {},
   "source": [
    "## Cell 2"
   ]
  },
  {
   "cell_type": "code",
   "execution_count": 4,
   "id": "2deec7d6",
   "metadata": {},
   "outputs": [],
   "source": [
    "def getessays(folder=\"txt files\"):\n",
    "    allfiles = {}\n",
    "    for file in os.listdir(folder):\n",
    "        if file.endswith(\".txt\"):\n",
    "            path = os.path.join(folder, file)\n",
    "            try:\n",
    "                with open(path, 'r', encoding='utf-8') as myf:\n",
    "                    allfiles[file] = myf.read()\n",
    "            except:\n",
    "                with open(path, 'r', encoding='latin1') as myf:\n",
    "                    allfiles[file] = myf.read()\n",
    "    return allfiles\n"
   ]
  },
  {
   "cell_type": "markdown",
   "id": "bf9f970a",
   "metadata": {},
   "source": [
    "## Cell 3"
   ]
  },
  {
   "cell_type": "code",
   "execution_count": 5,
   "id": "5bb3b62e",
   "metadata": {},
   "outputs": [],
   "source": [
    "def basicstats(esdata, folder=\"txt files\"):\n",
    "    info = {}\n",
    "    for filename, content in esdata.items():\n",
    "        allwords = re.findall(r'\\b\\w+\\b', content.lower())\n",
    "        puncs = re.findall(r'[^\\w\\s]', content)\n",
    "\n",
    "        info[filename] = {\n",
    "            \"wordcount\": len(allwords),\n",
    "            \"charcount\": len(content),\n",
    "            \"charnospace\": len(content.replace(\" \", \"\")),\n",
    "            \"linecount\": len(content.splitlines()),\n",
    "            \"avgwordlen\": sum(len(w) for w in allwords) / len(allwords) if allwords else 0,\n",
    "            \"essaylenb\": os.path.getsize(os.path.join(folder, filename)),\n",
    "            \"longword\": max(allwords, key=len) if allwords else \"\",\n",
    "            \"mfreqword\": Counter(allwords).most_common(1)[0][0] if allwords else \"\",\n",
    "            \"uniqwordcount\": sum(1 for c in Counter(allwords).values() if c == 1),\n",
    "            \"punctcount\": len(puncs),\n",
    "            \"uppercount\": sum(1 for ch in content if ch.isupper()),\n",
    "            \"lowercount\": sum(1 for ch in content if ch.islower())\n",
    "        }\n",
    "    return pd.DataFrame(info).T\n"
   ]
  },
  {
   "cell_type": "markdown",
   "id": "fa652d64",
   "metadata": {},
   "source": [
    "## Cell 4"
   ]
  },
  {
   "cell_type": "code",
   "execution_count": 6,
   "id": "8654714a",
   "metadata": {},
   "outputs": [],
   "source": [
    "def uniqrat(esdata):\n",
    "    out = {}\n",
    "    for file in esdata:\n",
    "        txt = esdata[file]\n",
    "        wrds = re.findall(r'\\b\\w+\\b', txt.lower())\n",
    "        if wrds:\n",
    "            count = Counter(wrds)\n",
    "            uniq = sum(1 for w in count.values() if w == 1)\n",
    "            out[file] = uniq / len(wrds)\n",
    "        else:\n",
    "            out[file] = 0\n",
    "    return pd.Series(out, name=\"uniq_ratio\").sort_values(ascending=False)\n"
   ]
  },
  {
   "cell_type": "markdown",
   "id": "6c18d4ae",
   "metadata": {},
   "source": [
    "## Cell 5"
   ]
  },
  {
   "cell_type": "code",
   "execution_count": 7,
   "id": "a7aa5e7b",
   "metadata": {},
   "outputs": [],
   "source": [
    "def worddiv(esdata):\n",
    "    div = {}\n",
    "    for file in esdata:\n",
    "        txt = esdata[file]\n",
    "        wrds = re.findall(r'\\b\\w+\\b', txt.lower())\n",
    "        if wrds:\n",
    "            div[file] = len(set(wrds)) / len(wrds)\n",
    "        else:\n",
    "            div[file] = 0\n",
    "    return pd.Series(div, name=\"worddiversity\").sort_values()\n"
   ]
  },
  {
   "cell_type": "markdown",
   "id": "66544bd9",
   "metadata": {},
   "source": [
    "## Cell 6"
   ]
  },
  {
   "cell_type": "code",
   "execution_count": 8,
   "id": "b28cf20e",
   "metadata": {},
   "outputs": [],
   "source": [
    "def strsimilar(esdata):\n",
    "    vect = CountVectorizer().fit_transform(esdata.values())\n",
    "    cos = cosine_similarity(vect)\n",
    "    fnames = list(esdata.keys())\n",
    "    return pd.DataFrame(cos, index=fnames, columns=fnames)\n"
   ]
  },
  {
   "cell_type": "markdown",
   "id": "faf815f4",
   "metadata": {},
   "source": [
    "## Cell 7"
   ]
  },
  {
   "cell_type": "code",
   "execution_count": 9,
   "id": "e00cba08",
   "metadata": {},
   "outputs": [],
   "source": [
    "myessays = getessays()\n",
    "mystats = basicstats(myessays)\n",
    "myuniqrat = uniqrat(myessays)\n",
    "myworddiv = worddiv(myessays)\n",
    "mysim = strsimilar(myessays)\n",
    "\n",
    "print(\"== Essay Stats ==\")\n",
    "display(mystats)\n",
    "\n",
    "print(\"\\n== unique ratio ==\")\n",
    "display(myuniqrat)\n",
    "\n",
    "print(f\"\\n essay with most unique words: {myuniqrat.idxmax()}\")\n",
    "\n",
    "print(\"\\n== word diversity (small = more repeat words) ==\")\n",
    "display(myworddiv)\n",
    "\n",
    "print(f\"\\n most repeated words in: {myworddiv.idxmin()}\")\n",
    "\n",
    "print(\"\\n== cosine sim matrix ==\")\n",
    "display(mysim)\n"
   ]
  },
  {
   "cell_type": "markdown",
   "id": "7df48abb",
   "metadata": {},
   "source": [
    "## Cell 8\n"
   ]
  },
  {
   "cell_type": "code",
   "execution_count": 11,
   "id": "21830bee",
   "metadata": {},
   "outputs": [],
   "source": [
    "import matplotlib.pyplot as plt\n",
    "import seaborn as sns\n",
    "\n",
    "sim2 = mysim.copy()\n",
    "for i in range(len(sim2)):\n",
    "    sim2.iloc[i, i] = 0\n",
    "\n",
    "simtotal = sim2.sum(axis=1).sort_values(ascending=False)\n",
    "\n",
    "plt.figure(figsize=(10, 6))\n",
    "sns.barplot(\n",
    "    x=simtotal.values, \n",
    "    y=simtotal.index, \n",
    "    hue=simtotal.index,         \n",
    "    palette=\"cubehelix\", \n",
    "    legend=False                 \n",
    ")\n",
    "plt.title(\"\\n Similarity score of each essay\\n\")\n",
    "plt.xlabel(\"\\nSimilarity Index total\\n (eaasy with most similarity score is most similar to others)\\n\")\n",
    "plt.ylabel(\"File name\")\n",
    "plt.tight_layout()\n",
    "plt.show()"
   ]
  }
 ],
 "metadata": {
  "kernelspec": {
   "display_name": "base",
   "language": "python",
   "name": "python3"
  },
  "language_info": {
   "codemirror_mode": {
    "name": "ipython",
    "version": 3
   },
   "file_extension": ".py",
   "mimetype": "text/x-python",
   "name": "python",
   "nbconvert_exporter": "python",
   "pygments_lexer": "ipython3",
   "version": "3.13.2"
  }
 },
 "nbformat": 4,
 "nbformat_minor": 5
}
